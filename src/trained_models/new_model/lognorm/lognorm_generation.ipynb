{
 "cells": [
  {
   "cell_type": "code",
   "execution_count": 9,
   "id": "6891e964-dc26-4a19-8b24-0dd95e41853c",
   "metadata": {
    "execution": {
     "iopub.execute_input": "2025-01-30T04:42:23.700622Z",
     "iopub.status.busy": "2025-01-30T04:42:23.699389Z",
     "iopub.status.idle": "2025-01-30T04:42:23.717312Z",
     "shell.execute_reply": "2025-01-30T04:42:23.716448Z",
     "shell.execute_reply.started": "2025-01-30T04:42:23.700577Z"
    },
    "tags": []
   },
   "outputs": [],
   "source": [
    "import math\n",
    "import random\n",
    "import numpy as np\n",
    "import pandas as pd\n",
    "\n",
    "# import matplotlib.pyplot as plt\n",
    "# import seaborn as sns\n",
    "# from scipy.special import gamma"
   ]
  },
  {
   "cell_type": "code",
   "execution_count": 2,
   "id": "f4c67116-6346-4989-b266-f41771aaa385",
   "metadata": {
    "execution": {
     "iopub.execute_input": "2025-01-30T04:40:24.840156Z",
     "iopub.status.busy": "2025-01-30T04:40:24.838982Z",
     "iopub.status.idle": "2025-01-30T04:40:24.857173Z",
     "shell.execute_reply": "2025-01-30T04:40:24.856438Z",
     "shell.execute_reply.started": "2025-01-30T04:40:24.840110Z"
    }
   },
   "outputs": [],
   "source": [
    "def reccur_lognormvariate_potok(mu, sigma):\n",
    "    time_event = random.lognormvariate(mu, sigma)\n",
    "    return time_event"
   ]
  },
  {
   "cell_type": "code",
   "execution_count": 14,
   "id": "01cde94d-0933-4b3b-9195-20af393a2d3e",
   "metadata": {
    "execution": {
     "iopub.execute_input": "2025-01-30T04:43:22.486712Z",
     "iopub.status.busy": "2025-01-30T04:43:22.485477Z",
     "iopub.status.idle": "2025-01-30T04:43:22.496477Z",
     "shell.execute_reply": "2025-01-30T04:43:22.495748Z",
     "shell.execute_reply.started": "2025-01-30T04:43:22.486664Z"
    },
    "tags": []
   },
   "outputs": [],
   "source": [
    "MATRIX_COL = 10000\n",
    "MATRIX_ROW = 10000"
   ]
  },
  {
   "cell_type": "code",
   "execution_count": 15,
   "id": "e4a76d1f-c3ab-4441-9bf3-b9f4f6567cd0",
   "metadata": {
    "execution": {
     "iopub.execute_input": "2025-01-30T04:43:23.426908Z",
     "iopub.status.busy": "2025-01-30T04:43:23.425536Z",
     "iopub.status.idle": "2025-01-30T04:45:26.328449Z",
     "shell.execute_reply": "2025-01-30T04:45:26.327590Z",
     "shell.execute_reply.started": "2025-01-30T04:43:23.426864Z"
    },
    "tags": []
   },
   "outputs": [],
   "source": [
    "# Инициализация массива времени\n",
    "time_list = np.zeros((MATRIX_ROW, MATRIX_COL))\n",
    "\n",
    "# Генерация mu и sigma сразу для всех строк\n",
    "mu_list = np.random.uniform(-2, 2, size=MATRIX_ROW)\n",
    "sigma_list = np.random.uniform(0.1, 5, size=MATRIX_ROW)\n",
    "\n",
    "# Заполнение time_list\n",
    "for i in range(MATRIX_ROW):\n",
    "    time_values = np.cumsum([reccur_lognormvariate_potok(mu_list[i], sigma_list[i]) for _ in range(MATRIX_COL)])\n",
    "    time_list[i, :] = time_values\n",
    "\n",
    "# Создание DataFrame\n",
    "df = pd.DataFrame(time_list)\n",
    "df[\"mu\"] = mu_list\n",
    "df[\"sigma\"] = sigma_list"
   ]
  },
  {
   "cell_type": "code",
   "execution_count": 17,
   "id": "53bf8813-182f-4c7b-8527-0306657ab4ef",
   "metadata": {
    "execution": {
     "iopub.execute_input": "2025-01-30T04:49:21.558731Z",
     "iopub.status.busy": "2025-01-30T04:49:21.557545Z",
     "iopub.status.idle": "2025-01-30T04:49:21.575471Z",
     "shell.execute_reply": "2025-01-30T04:49:21.574719Z",
     "shell.execute_reply.started": "2025-01-30T04:49:21.558686Z"
    }
   },
   "outputs": [],
   "source": [
    "df[\"lmbd\"] = 1 / np.exp(df[\"mu\"] + df[\"sigma\"] / 2)"
   ]
  },
  {
   "cell_type": "code",
   "execution_count": 19,
   "id": "8013fef1-72b2-403d-b679-f197ff13aed4",
   "metadata": {
    "execution": {
     "iopub.execute_input": "2025-01-30T04:49:42.605844Z",
     "iopub.status.busy": "2025-01-30T04:49:42.604726Z",
     "iopub.status.idle": "2025-01-30T04:52:19.850905Z",
     "shell.execute_reply": "2025-01-30T04:52:19.850132Z",
     "shell.execute_reply.started": "2025-01-30T04:49:42.605779Z"
    },
    "tags": []
   },
   "outputs": [],
   "source": [
    "df.to_csv(\"lognorm.csv\", sep=\",\")"
   ]
  }
 ],
 "metadata": {
  "kernelspec": {
   "display_name": "DataSphere Kernel",
   "language": "python",
   "name": "python3"
  },
  "language_info": {
   "codemirror_mode": {
    "name": "ipython",
    "version": 3
   },
   "file_extension": ".py",
   "mimetype": "text/x-python",
   "name": "python",
   "nbconvert_exporter": "python",
   "pygments_lexer": "ipython3",
   "version": "3.10.12"
  }
 },
 "nbformat": 4,
 "nbformat_minor": 5
}
